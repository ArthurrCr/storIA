{
 "cells": [
  {
   "cell_type": "code",
   "execution_count": 37,
   "metadata": {},
   "outputs": [],
   "source": [
    "import praw\n",
    "import pandas as pd\n",
    "import unidecode\n",
    "reddit = praw.Reddit(client_id='s_3FiiAEEguClw', client_secret='eEAenY2x2lyJU6TLlgOvHLMj7JluKQ', user_agent='storIA')"
   ]
  },
  {
   "cell_type": "code",
   "execution_count": 70,
   "metadata": {},
   "outputs": [],
   "source": [
    "top_five = reddit.subreddit('shortscarystories').top(limit = 200)"
   ]
  },
  {
   "cell_type": "code",
   "execution_count": 71,
   "metadata": {},
   "outputs": [],
   "source": [
    "scary_df = pd.DataFrame(columns = ['title','text','score'])\n",
    "for post in top_five:\n",
    "    scary_df = scary_df.append({'title':post.title, 'text':post.selftext, \n",
    "                                'score': post.score, 'num_words': int(len(post.selftext.split()))}, ignore_index = True)\n",
    "    \n",
    "    # &#x200B;\n",
    "    # Emoji ⭐\n",
    "    # \\n\n",
    "    # .υoγ ʇo ɘƨυɒɔɘd tƨixɘ I tɒʜt ʞniʜt tʜϱim υoY (Filter w regex)\n",
    "    # "
   ]
  },
  {
   "cell_type": "code",
   "execution_count": 82,
   "metadata": {
    "scrolled": true
   },
   "outputs": [
    {
     "name": "stdout",
     "output_type": "stream",
     "text": [
      "Have you noticed how your mind sometimes mirrors you thoughts? \n",
      "\n",
      "¿sʇɥƃnoɥʇ noʎ sɹoɹɹıɯ sǝɯıʇǝɯos puıɯ ɹnoʎ ʍoɥ pǝɔıʇou noʎ ǝʌɐɥ\n",
      "\n",
      "&#x200B;\n",
      "\n",
      "It’s not all the time, but when you are focusing real hard, like right now...\n",
      "\n",
      "˙˙˙ʍou ʇɥƃıɹ ǝʞıl 'pɹɐɥ lɐǝɹ ƃuısnɔoɟ ǝɹɐ noʎ uǝɥʍ ʇnq 'ǝɯıʇ ǝɥʇ llɐ ʇou s’ʇı\n",
      "\n",
      "&#x200B;\n",
      "\n",
      "You can feel how your thoughts are duplicated, mirrored, still the same.\n",
      "\n",
      "˙ǝɯɐs ǝɥʇ llıʇs 'pǝɹoɹɹıɯ 'pǝʇɐɔıldnp ǝɹɐ sʇɥƃnoɥʇ ɹnoʎ ʍoɥ lǝǝɟ uɐɔ noʎ\n",
      "\n",
      "&#x200B;\n",
      "\n",
      "But sometimes…\n",
      "\n",
      "˙˙˙sǝɯıʇǝɯos ʇnq\n",
      "\n",
      "&#x200B;\n",
      "\n",
      "You get this strange feeling…\n",
      "\n",
      "˙˙˙ƃuılǝǝɟ ǝƃuɐɹʇs sıɥʇ ʇǝƃ noʎ\n",
      "\n",
      "&#x200B;\n",
      "\n",
      "Like you aren’t in control.\n",
      "\n",
      "loɹʇuoɔ uı ʇ,uǝɹɐ noʎ\n",
      "\n",
      "&#x200B;\n",
      "\n",
      "Like your mirrored thoughts are not yours anymore.\n",
      "\n",
      "˙ǝɹoɯʎuɐ sɹnoʎ ʇou ǝɹɐ sʇɥƃnoɥʇ ɹnoʎ\n",
      "\n",
      "&#x200B;\n",
      "\n",
      "And you wonder…\n",
      "\n",
      "˙˙˙ɹǝpuoʍ\n",
      "\n",
      "&#x200B;\n",
      "\n",
      "Is it like an ever warping echo, just thoughts fading in the process…\n",
      "\n",
      "˙˙˙ssǝɔoɹd ǝɥʇ uı ƃuıpɐɟ 'oɥɔǝ ƃuıdɹɐʍ ɹǝʌǝ uɐ\n",
      "\n",
      "&#x200B;\n",
      "\n",
      "Or is it something more?\n",
      "\n",
      "ǝɹoɯ ƃuıɥʇǝɯos s,ʇı\n",
      "\n",
      "ǝɹoɯ ƃuıɥʇǝɯos s,ʇı\n",
      "\n",
      "ǝɹoɯ ƃuıɥʇǝɯos s,ʇı\n"
     ]
    }
   ],
   "source": [
    "print(scary_df['text'][131])"
   ]
  },
  {
   "cell_type": "code",
   "execution_count": 87,
   "metadata": {},
   "outputs": [],
   "source": [
    "string = \".υoγ ʇo ɘƨυɒɔɘd tƨixɘ I tɒʜt ʞniʜt tʜϱim υoY felipe\""
   ]
  },
  {
   "cell_type": "code",
   "execution_count": 90,
   "metadata": {},
   "outputs": [
    {
     "name": "stdout",
     "output_type": "stream",
     "text": [
      "f\n",
      "e\n",
      "e\n"
     ]
    }
   ],
   "source": [
    "list = ['a','b', 'c','e','f','g']\n",
    "for char in string:\n",
    "    if char in list:\n",
    "        print(char)"
   ]
  },
  {
   "cell_type": "code",
   "execution_count": null,
   "metadata": {},
   "outputs": [],
   "source": []
  }
 ],
 "metadata": {
  "kernelspec": {
   "display_name": "Python 3",
   "language": "python",
   "name": "python3"
  },
  "language_info": {
   "codemirror_mode": {
    "name": "ipython",
    "version": 3
   },
   "file_extension": ".py",
   "mimetype": "text/x-python",
   "name": "python",
   "nbconvert_exporter": "python",
   "pygments_lexer": "ipython3",
   "version": "3.7.4"
  }
 },
 "nbformat": 4,
 "nbformat_minor": 2
}
