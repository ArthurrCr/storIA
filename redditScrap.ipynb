{
  "nbformat": 4,
  "nbformat_minor": 0,
  "metadata": {
    "colab": {
      "name": "redditScrap.ipynb",
      "provenance": [],
      "mount_file_id": "16vgq_cWhCEJp0WO5GGYpEO1A10T1asa9",
      "authorship_tag": "ABX9TyPcQcUrvdZU+dJ/cS08NzXR",
      "include_colab_link": true
    },
    "kernelspec": {
      "display_name": "Python 3",
      "name": "python3"
    },
    "language_info": {
      "name": "python"
    }
  },
  "cells": [
    {
      "cell_type": "markdown",
      "metadata": {
        "id": "view-in-github",
        "colab_type": "text"
      },
      "source": [
        "<a href=\"https://colab.research.google.com/github/TailUFPB/storIA/blob/main/redditScrap.ipynb\" target=\"_parent\"><img src=\"https://colab.research.google.com/assets/colab-badge.svg\" alt=\"Open In Colab\"/></a>"
      ]
    },
    {
      "cell_type": "markdown",
      "metadata": {
        "id": "ahwJXdbeGTay"
      },
      "source": [
        "Para treinar o modelo, será necessário baixar uma boa quantidade os posts da sub desejada do Reddit. Precisamos dos posts e da popularidade de cada post. \n",
        "\n",
        "A API do próprio Reddit já permite isso. Para utilizá-la é necessário criar uma conta e solicitar acesso a API(https://www.reddit.com/dev/api/).\n",
        "Depois de criada a conta, utilizamos a biblioteca PRAW(https://praw.readthedocs.io/en/stable/) e entramos com os dados de autenticação da gerados na etapa anterior. \n",
        "A API deve retornar os posts que irão compor o dataframe que será utilizado para treinar o modelo. Etretanto existe uma limitação para 1000 posts. Temos duas opções: podemos pegar os 1000 mais populares ou podemos pegar os 1000 mais recentes. Outra opção que a API fornece é retornar o post referente a algum id específico. \n",
        "\n",
        "Uma das ideias para conseguir baixar mais do que essa limitação foi usar a função random da API, que retorna um post aleatório. Depois disso, repetiríamos a função random X vezes até conseguir uma quantidade satisfatória de posts. \n",
        "O random costumava retornar o mesmo grupo de posts, mesmo que fosse executado milhares de vezes. \n",
        "\n",
        "A solução encontrada foi utilizar uma outra API('https://api.pushshift.io/reddit/search/submission/) para criar uma lista com os IDs dos posts, e posteriormente utiliza-la na primeira API para resgatar os textos.\n",
        "\n",
        "Essa segunda API também contava com limitações nas respostas, então fomos pegando a lista de todos os posts de cada dia nos últimos dez anos. Muitas vezes a API dava erro e não retornava post nenhum para algum dia específico, mas ao tentar esse dia novamente, a API retornava os resultados normalmente. Então cada dia que retornava erro era salvo em uma lista, e seria executado novamente em um outro momento. \n",
        "\n",
        "Com a lista de todos os Ids pronta, solicitamos os posts daqueles IDS. Como a sub tem vários anos, alguns dos posts mais antigos tinham sido deletados ou removidos. Foi necessário checar se haviam posts duplicados também.\n",
        "\n",
        "Por fim, esse mesmo processo foi executado para as subs shortscarystories, scarystories e nosleep.\n",
        "\n",
        "\n",
        "\n"
      ]
    },
    {
      "cell_type": "code",
      "metadata": {
        "id": "q5Ygm5zol4xe"
      },
      "source": [
        "!pip install praw -q\n",
        "import praw\n",
        "import pandas as pd\n",
        "from tqdm import tqdm\n",
        "import requests\n",
        "import datetime\n",
        "from joblib import Parallel, delayed"
      ],
      "execution_count": null,
      "outputs": []
    },
    {
      "cell_type": "code",
      "metadata": {
        "id": "PhxzzW1bk_HA"
      },
      "source": [
        "folder = '/content/drive/MyDrive/dados/nlp2/'\n",
        "subred = 'nosleep'\n",
        "#subred = 'poetry'\n",
        "def main(years = 10):\n",
        "  !mkdir '$folder$subred/' -p\n",
        "  print('1st runt IDS: ' + str(getIds(years)))\n",
        "  n = getErrors()\n",
        "  print(n)\n",
        "  print('TOTAL IDS: ' + str(mergeIDS(n)))\n",
        "  n = getPosts()\n",
        "  print(n)\n",
        "  print(mergePosts(n))"
      ],
      "execution_count": null,
      "outputs": []
    },
    {
      "cell_type": "code",
      "metadata": {
        "colab": {
          "base_uri": "https://localhost:8080/"
        },
        "id": "JcEdBDnemBMj",
        "outputId": "e564faf2-52f5-45f4-90ee-1ee419d7d5a9"
      },
      "source": [
        "def getIds(years):\n",
        "  data = int(datetime.datetime.today().timestamp())\n",
        "  link = 'https://api.pushshift.io/reddit/search/submission/?subreddit=' + subred + '&sort=desc&sort_type=created_utc&after={}&before={}&size=1000&fields=id'\n",
        "  ids = []\n",
        "  errors = []\n",
        "  dias = 86400\n",
        "  for i in tqdm(range(365*years)):\n",
        "    try: \n",
        "      r = requests.get(link.format(data - dias, data), timeout = 5)\n",
        "      j = r.json()\n",
        "      for post in r.json()['data']:\n",
        "        ids.append(post['id'])\n",
        "    except:\n",
        "      errors.append(data)\n",
        "    data = data - dias\n",
        "  print(len(ids))\n",
        "  errors = pd.DataFrame({'errors':errors})\n",
        "  errors.to_csv('{}{}/errors.csv'.format(folder,subred), index = False)\n",
        "  df = pd.DataFrame({'id':ids})\n",
        "  df.to_csv('{}{}/ids.csv'.format(folder,subred), index = False)\n",
        "  return len(df)\n",
        "\n",
        "\n",
        "def getErrors():\n",
        "  errors = []\n",
        "  for n in range(0,100):\n",
        "    if (len(errors) == 0):\n",
        "      try:\n",
        "        errors = pd.read_csv('{}{}/errors.csv'.format(folder,subred))\n",
        "      except:\n",
        "        break\n",
        "    errors = errors['errors'].tolist()\n",
        "    link = 'https://api.pushshift.io/reddit/search/submission/?subreddit=' + subred + '&sort=desc&sort_type=created_utc&after={}&before={}&size=1000&fields=id'\n",
        "    ids = []\n",
        "    errorsf = []\n",
        "    dias = 86400\n",
        "    for i in tqdm(errors):\n",
        "      try: \n",
        "        r = requests.get(link.format(i - dias, i), timeout = 10)\n",
        "        j = r.json()\n",
        "        for post in r.json()['data']:\n",
        "          ids.append(post['id'])\n",
        "      except:\n",
        "        errorsf.append(i)\n",
        "    print(len(ids))\n",
        "    print(len(errorsf))\n",
        "    if len(errorsf) == 0:\n",
        "      break\n",
        "    errors = pd.DataFrame({'errors':errorsf})\n",
        "    errors.to_csv('{}{}/errors{}.csv'.format(folder,subred,n+1), index = False)\n",
        "    df = pd.DataFrame({'id':ids})\n",
        "    df.to_csv('{}{}/ids{}.csv'.format(folder,subred,n+1), index = False)\n",
        "  return(n)\n",
        "\n",
        "def mergeIDS(n):\n",
        "  df = pd.read_csv('{}{}/ids.csv'.format(folder,subred))\n",
        "  for i in range(1,n+1):\n",
        "    df = df.append(pd.read_csv('{}{}/ids{}.csv'.format(folder,subred,i)))\n",
        "  df.to_csv('{}{}/allIDS.csv'.format(folder,subred), index = False)\n",
        "  return len(df)\n",
        "\n",
        "def getPosts():\n",
        "  import praw\n",
        "  reddit = praw.Reddit(client_id='s_3FiiAEEguClw', client_secret='eEAenY2x2lyJU6TLlgOvHLMj7JluKQ', user_agent='storIA',check_for_async=False)\n",
        "  ml_subreddit = reddit.subreddit(subred)\n",
        "  df = pd.read_csv('{}{}/allIDS.csv'.format(folder,subred))\n",
        "  lista = df['id'].tolist()\n",
        "  def capture(part):\n",
        "    posts = []\n",
        "    cs = 1000\n",
        "    for i in range(cs*part, cs*(part+1)):\n",
        "      try: \n",
        "        post = reddit.submission(lista[i])\n",
        "        posts.append([post.title, post.score, post.id, post.subreddit, post.url, post.num_comments, post.selftext, post.created])\n",
        "      except:\n",
        "        print('over?')\n",
        "    posts = pd.DataFrame(posts,columns=['title', 'score', 'id', 'subreddit', 'url', 'num_comments', 'body', 'created'])\n",
        "    posts.to_csv('{}{}/posts{}.csv'.format(folder,subred,part), index = False)\n",
        "  Parallel(n_jobs=8)(delayed(capture)(part) for part in tqdm(range(len(df)//1000 +2)))\n",
        "  return (len(df)//1000 +1)\n",
        "\n",
        "def mergePosts(n):\n",
        "  #junta posts\n",
        "  df = pd.read_csv('{}{}/posts0.csv'.format(folder,subred))\n",
        "  for i in range(1,n):\n",
        "    df = df.append(pd.read_csv('{}{}/posts{}.csv'.format(folder,subred,i)))\n",
        "  df.to_csv('{}{}/allPOSTS{}.csv'.format(folder,subred,subred), index = False)\n",
        "  return(df.shape)\n",
        "\n",
        "\n",
        "main(14)"
      ],
      "execution_count": null,
      "outputs": [
        {
          "output_type": "stream",
          "text": [
            "100%|██████████| 5110/5110 [06:16<00:00, 13.57it/s]\n",
            "  0%|          | 2/4727 [00:00<05:02, 15.60it/s]"
          ],
          "name": "stderr"
        },
        {
          "output_type": "stream",
          "text": [
            "1\n",
            "1st runt IDS: 1\n"
          ],
          "name": "stdout"
        },
        {
          "output_type": "stream",
          "text": [
            "100%|██████████| 4727/4727 [06:07<00:00, 12.88it/s]\n",
            "  0%|          | 2/4363 [00:00<05:00, 14.51it/s]"
          ],
          "name": "stderr"
        },
        {
          "output_type": "stream",
          "text": [
            "1\n",
            "4363\n"
          ],
          "name": "stdout"
        },
        {
          "output_type": "stream",
          "text": [
            "100%|██████████| 4363/4363 [06:30<00:00, 11.17it/s]\n",
            "  0%|          | 2/3991 [00:00<05:01, 13.25it/s]"
          ],
          "name": "stderr"
        },
        {
          "output_type": "stream",
          "text": [
            "1\n",
            "3991\n"
          ],
          "name": "stdout"
        },
        {
          "output_type": "stream",
          "text": [
            "100%|██████████| 3991/3991 [05:02<00:00, 13.20it/s]\n",
            "  0%|          | 2/3688 [00:00<03:29, 17.55it/s]"
          ],
          "name": "stderr"
        },
        {
          "output_type": "stream",
          "text": [
            "1\n",
            "3688\n"
          ],
          "name": "stdout"
        },
        {
          "output_type": "stream",
          "text": [
            "100%|██████████| 3688/3688 [05:12<00:00, 11.81it/s]\n",
            "  0%|          | 2/3396 [00:00<03:39, 15.43it/s]"
          ],
          "name": "stderr"
        },
        {
          "output_type": "stream",
          "text": [
            "1\n",
            "3396\n"
          ],
          "name": "stdout"
        },
        {
          "output_type": "stream",
          "text": [
            "100%|██████████| 3396/3396 [04:19<00:00, 13.09it/s]\n",
            "  0%|          | 2/3136 [00:00<04:16, 12.24it/s]"
          ],
          "name": "stderr"
        },
        {
          "output_type": "stream",
          "text": [
            "0\n",
            "3136\n"
          ],
          "name": "stdout"
        },
        {
          "output_type": "stream",
          "text": [
            "100%|██████████| 3136/3136 [04:01<00:00, 13.00it/s]\n",
            "  0%|          | 2/2895 [00:00<03:07, 15.42it/s]"
          ],
          "name": "stderr"
        },
        {
          "output_type": "stream",
          "text": [
            "2\n",
            "2895\n"
          ],
          "name": "stdout"
        },
        {
          "output_type": "stream",
          "text": [
            "100%|██████████| 2895/2895 [03:52<00:00, 12.45it/s]\n",
            "  0%|          | 2/2672 [00:00<02:51, 15.59it/s]"
          ],
          "name": "stderr"
        },
        {
          "output_type": "stream",
          "text": [
            "2\n",
            "2672\n"
          ],
          "name": "stdout"
        },
        {
          "output_type": "stream",
          "text": [
            "100%|██████████| 2672/2672 [03:19<00:00, 13.40it/s]\n",
            "  0%|          | 2/2473 [00:00<02:39, 15.49it/s]"
          ],
          "name": "stderr"
        },
        {
          "output_type": "stream",
          "text": [
            "1\n",
            "2473\n"
          ],
          "name": "stdout"
        },
        {
          "output_type": "stream",
          "text": [
            "100%|██████████| 2473/2473 [03:03<00:00, 13.47it/s]\n",
            "  0%|          | 1/2289 [00:00<05:14,  7.27it/s]"
          ],
          "name": "stderr"
        },
        {
          "output_type": "stream",
          "text": [
            "0\n",
            "2289\n"
          ],
          "name": "stdout"
        },
        {
          "output_type": "stream",
          "text": [
            "100%|██████████| 2289/2289 [02:53<00:00, 13.23it/s]\n",
            "  0%|          | 2/2116 [00:00<02:22, 14.82it/s]"
          ],
          "name": "stderr"
        },
        {
          "output_type": "stream",
          "text": [
            "1\n",
            "2116\n"
          ],
          "name": "stdout"
        },
        {
          "output_type": "stream",
          "text": [
            "100%|██████████| 2116/2116 [02:32<00:00, 13.86it/s]\n",
            "  0%|          | 2/1964 [00:00<02:56, 11.14it/s]"
          ],
          "name": "stderr"
        },
        {
          "output_type": "stream",
          "text": [
            "0\n",
            "1964\n"
          ],
          "name": "stdout"
        },
        {
          "output_type": "stream",
          "text": [
            "100%|██████████| 1964/1964 [03:27<00:00,  9.47it/s]\n",
            "  0%|          | 2/1773 [00:00<02:08, 13.74it/s]"
          ],
          "name": "stderr"
        },
        {
          "output_type": "stream",
          "text": [
            "0\n",
            "1773\n"
          ],
          "name": "stdout"
        },
        {
          "output_type": "stream",
          "text": [
            "100%|██████████| 1773/1773 [02:13<00:00, 13.23it/s]\n",
            "  0%|          | 2/1639 [00:00<01:26, 18.87it/s]"
          ],
          "name": "stderr"
        },
        {
          "output_type": "stream",
          "text": [
            "0\n",
            "1639\n"
          ],
          "name": "stdout"
        },
        {
          "output_type": "stream",
          "text": [
            "100%|██████████| 1639/1639 [02:05<00:00, 13.07it/s]\n",
            "  0%|          | 2/1514 [00:00<01:44, 14.41it/s]"
          ],
          "name": "stderr"
        },
        {
          "output_type": "stream",
          "text": [
            "1\n",
            "1514\n"
          ],
          "name": "stdout"
        },
        {
          "output_type": "stream",
          "text": [
            "100%|██████████| 1514/1514 [01:54<00:00, 13.21it/s]\n",
            "  0%|          | 2/1399 [00:00<01:26, 16.07it/s]"
          ],
          "name": "stderr"
        },
        {
          "output_type": "stream",
          "text": [
            "1\n",
            "1399\n"
          ],
          "name": "stdout"
        },
        {
          "output_type": "stream",
          "text": [
            "100%|██████████| 1399/1399 [01:39<00:00, 14.01it/s]\n",
            "  0%|          | 0/1299 [00:00<?, ?it/s]"
          ],
          "name": "stderr"
        },
        {
          "output_type": "stream",
          "text": [
            "0\n",
            "1299\n"
          ],
          "name": "stdout"
        },
        {
          "output_type": "stream",
          "text": [
            "100%|██████████| 1299/1299 [01:45<00:00, 12.34it/s]\n",
            "  0%|          | 2/1194 [00:00<01:41, 11.71it/s]"
          ],
          "name": "stderr"
        },
        {
          "output_type": "stream",
          "text": [
            "3\n",
            "1194\n"
          ],
          "name": "stdout"
        },
        {
          "output_type": "stream",
          "text": [
            "100%|██████████| 1194/1194 [01:27<00:00, 13.59it/s]\n",
            "  0%|          | 2/1106 [00:00<01:31, 12.03it/s]"
          ],
          "name": "stderr"
        },
        {
          "output_type": "stream",
          "text": [
            "0\n",
            "1106\n"
          ],
          "name": "stdout"
        },
        {
          "output_type": "stream",
          "text": [
            "100%|██████████| 1106/1106 [01:27<00:00, 12.63it/s]\n",
            "  0%|          | 2/1018 [00:00<01:03, 15.93it/s]"
          ],
          "name": "stderr"
        },
        {
          "output_type": "stream",
          "text": [
            "0\n",
            "1018\n"
          ],
          "name": "stdout"
        },
        {
          "output_type": "stream",
          "text": [
            "100%|██████████| 1018/1018 [02:18<00:00,  7.32it/s]\n",
            "  0%|          | 2/924 [00:00<00:58, 15.69it/s]"
          ],
          "name": "stderr"
        },
        {
          "output_type": "stream",
          "text": [
            "1\n",
            "924\n"
          ],
          "name": "stdout"
        },
        {
          "output_type": "stream",
          "text": [
            "100%|██████████| 924/924 [01:05<00:00, 14.05it/s]\n",
            "  0%|          | 2/858 [00:00<01:12, 11.75it/s]"
          ],
          "name": "stderr"
        },
        {
          "output_type": "stream",
          "text": [
            "1\n",
            "858\n"
          ],
          "name": "stdout"
        },
        {
          "output_type": "stream",
          "text": [
            "100%|██████████| 858/858 [01:07<00:00, 12.74it/s]\n",
            "  0%|          | 1/790 [00:00<01:20,  9.81it/s]"
          ],
          "name": "stderr"
        },
        {
          "output_type": "stream",
          "text": [
            "1\n",
            "790\n"
          ],
          "name": "stdout"
        },
        {
          "output_type": "stream",
          "text": [
            "100%|██████████| 790/790 [01:01<00:00, 12.83it/s]\n",
            "  0%|          | 2/729 [00:00<00:44, 16.44it/s]"
          ],
          "name": "stderr"
        },
        {
          "output_type": "stream",
          "text": [
            "0\n",
            "729\n"
          ],
          "name": "stdout"
        },
        {
          "output_type": "stream",
          "text": [
            "100%|██████████| 729/729 [02:21<00:00,  5.15it/s]\n",
            "  0%|          | 2/635 [00:00<00:44, 14.31it/s]"
          ],
          "name": "stderr"
        },
        {
          "output_type": "stream",
          "text": [
            "1\n",
            "635\n"
          ],
          "name": "stdout"
        },
        {
          "output_type": "stream",
          "text": [
            "100%|██████████| 635/635 [00:58<00:00, 10.92it/s]\n",
            "  0%|          | 2/577 [00:00<00:44, 12.80it/s]"
          ],
          "name": "stderr"
        },
        {
          "output_type": "stream",
          "text": [
            "0\n",
            "577\n"
          ],
          "name": "stdout"
        },
        {
          "output_type": "stream",
          "text": [
            "100%|██████████| 577/577 [01:36<00:00,  5.97it/s]\n",
            "  0%|          | 0/494 [00:00<?, ?it/s]"
          ],
          "name": "stderr"
        },
        {
          "output_type": "stream",
          "text": [
            "0\n",
            "494\n"
          ],
          "name": "stdout"
        },
        {
          "output_type": "stream",
          "text": [
            "100%|██████████| 494/494 [00:54<00:00,  9.00it/s]\n",
            "  0%|          | 1/439 [00:00<00:47,  9.13it/s]"
          ],
          "name": "stderr"
        },
        {
          "output_type": "stream",
          "text": [
            "0\n",
            "439\n"
          ],
          "name": "stdout"
        },
        {
          "output_type": "stream",
          "text": [
            "100%|██████████| 439/439 [00:48<00:00,  9.04it/s]\n",
            "  0%|          | 1/390 [00:00<00:41,  9.31it/s]"
          ],
          "name": "stderr"
        },
        {
          "output_type": "stream",
          "text": [
            "0\n",
            "390\n"
          ],
          "name": "stdout"
        },
        {
          "output_type": "stream",
          "text": [
            "100%|██████████| 390/390 [00:37<00:00, 10.53it/s]\n",
            "  0%|          | 1/353 [00:00<00:42,  8.30it/s]"
          ],
          "name": "stderr"
        },
        {
          "output_type": "stream",
          "text": [
            "1\n",
            "353\n"
          ],
          "name": "stdout"
        },
        {
          "output_type": "stream",
          "text": [
            "100%|██████████| 353/353 [00:37<00:00,  9.42it/s]\n",
            "  1%|          | 2/316 [00:00<00:22, 13.74it/s]"
          ],
          "name": "stderr"
        },
        {
          "output_type": "stream",
          "text": [
            "0\n",
            "316\n"
          ],
          "name": "stdout"
        },
        {
          "output_type": "stream",
          "text": [
            "100%|██████████| 316/316 [00:30<00:00, 10.35it/s]\n",
            "  1%|          | 2/285 [00:00<00:23, 12.03it/s]"
          ],
          "name": "stderr"
        },
        {
          "output_type": "stream",
          "text": [
            "0\n",
            "285\n"
          ],
          "name": "stdout"
        },
        {
          "output_type": "stream",
          "text": [
            "100%|██████████| 285/285 [00:26<00:00, 10.93it/s]\n",
            "  1%|          | 2/259 [00:00<00:22, 11.61it/s]"
          ],
          "name": "stderr"
        },
        {
          "output_type": "stream",
          "text": [
            "1\n",
            "259\n"
          ],
          "name": "stdout"
        },
        {
          "output_type": "stream",
          "text": [
            "100%|██████████| 259/259 [00:24<00:00, 10.72it/s]\n",
            "  1%|          | 2/235 [00:00<00:18, 12.45it/s]"
          ],
          "name": "stderr"
        },
        {
          "output_type": "stream",
          "text": [
            "0\n",
            "235\n"
          ],
          "name": "stdout"
        },
        {
          "output_type": "stream",
          "text": [
            "100%|██████████| 235/235 [00:22<00:00, 10.68it/s]\n",
            "  1%|          | 2/213 [00:00<00:16, 12.87it/s]"
          ],
          "name": "stderr"
        },
        {
          "output_type": "stream",
          "text": [
            "0\n",
            "213\n"
          ],
          "name": "stdout"
        },
        {
          "output_type": "stream",
          "text": [
            "100%|██████████| 213/213 [00:20<00:00, 10.45it/s]\n",
            "  1%|          | 1/192 [00:00<00:20,  9.46it/s]"
          ],
          "name": "stderr"
        },
        {
          "output_type": "stream",
          "text": [
            "0\n",
            "192\n"
          ],
          "name": "stdout"
        },
        {
          "output_type": "stream",
          "text": [
            "100%|██████████| 192/192 [00:17<00:00, 11.02it/s]\n",
            "  1%|          | 2/175 [00:00<00:14, 11.74it/s]"
          ],
          "name": "stderr"
        },
        {
          "output_type": "stream",
          "text": [
            "0\n",
            "175\n"
          ],
          "name": "stdout"
        },
        {
          "output_type": "stream",
          "text": [
            "100%|██████████| 175/175 [00:16<00:00, 10.60it/s]\n",
            "  1%|▏         | 2/158 [00:00<00:13, 11.42it/s]"
          ],
          "name": "stderr"
        },
        {
          "output_type": "stream",
          "text": [
            "0\n",
            "158\n"
          ],
          "name": "stdout"
        },
        {
          "output_type": "stream",
          "text": [
            "100%|██████████| 158/158 [00:14<00:00, 10.81it/s]\n",
            "  0%|          | 0/144 [00:00<?, ?it/s]"
          ],
          "name": "stderr"
        },
        {
          "output_type": "stream",
          "text": [
            "0\n",
            "144\n"
          ],
          "name": "stdout"
        },
        {
          "output_type": "stream",
          "text": [
            "100%|██████████| 144/144 [00:17<00:00,  8.33it/s]\n",
            "  1%|          | 1/127 [00:00<00:18,  6.80it/s]"
          ],
          "name": "stderr"
        },
        {
          "output_type": "stream",
          "text": [
            "0\n",
            "127\n"
          ],
          "name": "stdout"
        },
        {
          "output_type": "stream",
          "text": [
            "100%|██████████| 127/127 [00:12<00:00,  9.79it/s]\n",
            "  2%|▏         | 2/114 [00:00<00:09, 11.57it/s]"
          ],
          "name": "stderr"
        },
        {
          "output_type": "stream",
          "text": [
            "0\n",
            "114\n"
          ],
          "name": "stdout"
        },
        {
          "output_type": "stream",
          "text": [
            "100%|██████████| 114/114 [00:13<00:00,  8.73it/s]\n",
            "  1%|          | 1/100 [00:00<00:11,  8.82it/s]"
          ],
          "name": "stderr"
        },
        {
          "output_type": "stream",
          "text": [
            "0\n",
            "100\n"
          ],
          "name": "stdout"
        },
        {
          "output_type": "stream",
          "text": [
            "100%|██████████| 100/100 [00:43<00:00,  2.30it/s]\n",
            "  3%|▎         | 2/79 [00:00<00:06, 11.55it/s]"
          ],
          "name": "stderr"
        },
        {
          "output_type": "stream",
          "text": [
            "0\n",
            "79\n"
          ],
          "name": "stdout"
        },
        {
          "output_type": "stream",
          "text": [
            "100%|██████████| 79/79 [00:12<00:00,  6.09it/s]\n",
            "  0%|          | 0/66 [00:00<?, ?it/s]"
          ],
          "name": "stderr"
        },
        {
          "output_type": "stream",
          "text": [
            "0\n",
            "66\n"
          ],
          "name": "stdout"
        },
        {
          "output_type": "stream",
          "text": [
            "100%|██████████| 66/66 [00:05<00:00, 11.44it/s]\n",
            "  3%|▎         | 2/60 [00:00<00:04, 11.66it/s]"
          ],
          "name": "stderr"
        },
        {
          "output_type": "stream",
          "text": [
            "0\n",
            "60\n"
          ],
          "name": "stdout"
        },
        {
          "output_type": "stream",
          "text": [
            "100%|██████████| 60/60 [00:06<00:00,  9.08it/s]\n",
            "  4%|▎         | 2/54 [00:00<00:04, 10.77it/s]"
          ],
          "name": "stderr"
        },
        {
          "output_type": "stream",
          "text": [
            "0\n",
            "54\n"
          ],
          "name": "stdout"
        },
        {
          "output_type": "stream",
          "text": [
            "100%|██████████| 54/54 [00:05<00:00,  9.57it/s]\n",
            "  4%|▍         | 2/48 [00:00<00:03, 14.59it/s]"
          ],
          "name": "stderr"
        },
        {
          "output_type": "stream",
          "text": [
            "0\n",
            "48\n"
          ],
          "name": "stdout"
        },
        {
          "output_type": "stream",
          "text": [
            "100%|██████████| 48/48 [00:05<00:00,  9.20it/s]\n",
            "  5%|▍         | 2/43 [00:00<00:03, 11.09it/s]"
          ],
          "name": "stderr"
        },
        {
          "output_type": "stream",
          "text": [
            "0\n",
            "43\n"
          ],
          "name": "stdout"
        },
        {
          "output_type": "stream",
          "text": [
            "100%|██████████| 43/43 [00:04<00:00,  9.62it/s]\n",
            "  5%|▌         | 2/38 [00:00<00:02, 14.44it/s]"
          ],
          "name": "stderr"
        },
        {
          "output_type": "stream",
          "text": [
            "1\n",
            "38\n"
          ],
          "name": "stdout"
        },
        {
          "output_type": "stream",
          "text": [
            "100%|██████████| 38/38 [00:04<00:00,  8.99it/s]\n",
            "  6%|▌         | 2/34 [00:00<00:01, 17.82it/s]"
          ],
          "name": "stderr"
        },
        {
          "output_type": "stream",
          "text": [
            "0\n",
            "34\n"
          ],
          "name": "stdout"
        },
        {
          "output_type": "stream",
          "text": [
            "100%|██████████| 34/34 [00:03<00:00, 10.71it/s]\n",
            "  6%|▋         | 2/31 [00:00<00:01, 15.10it/s]"
          ],
          "name": "stderr"
        },
        {
          "output_type": "stream",
          "text": [
            "0\n",
            "31\n"
          ],
          "name": "stdout"
        },
        {
          "output_type": "stream",
          "text": [
            "100%|██████████| 31/31 [00:02<00:00, 10.99it/s]\n",
            "  0%|          | 0/28 [00:00<?, ?it/s]"
          ],
          "name": "stderr"
        },
        {
          "output_type": "stream",
          "text": [
            "0\n",
            "28\n"
          ],
          "name": "stdout"
        },
        {
          "output_type": "stream",
          "text": [
            "100%|██████████| 28/28 [00:03<00:00,  8.37it/s]\n",
            "  8%|▊         | 2/25 [00:00<00:01, 13.31it/s]"
          ],
          "name": "stderr"
        },
        {
          "output_type": "stream",
          "text": [
            "0\n",
            "25\n"
          ],
          "name": "stdout"
        },
        {
          "output_type": "stream",
          "text": [
            "100%|██████████| 25/25 [00:02<00:00, 10.41it/s]\n",
            "  0%|          | 0/22 [00:00<?, ?it/s]"
          ],
          "name": "stderr"
        },
        {
          "output_type": "stream",
          "text": [
            "0\n",
            "22\n"
          ],
          "name": "stdout"
        },
        {
          "output_type": "stream",
          "text": [
            "100%|██████████| 22/22 [00:02<00:00, 10.06it/s]\n",
            "  5%|▌         | 1/20 [00:00<00:03,  5.99it/s]"
          ],
          "name": "stderr"
        },
        {
          "output_type": "stream",
          "text": [
            "0\n",
            "20\n"
          ],
          "name": "stdout"
        },
        {
          "output_type": "stream",
          "text": [
            "100%|██████████| 20/20 [00:02<00:00,  9.89it/s]\n",
            " 11%|█         | 2/18 [00:00<00:01, 10.71it/s]"
          ],
          "name": "stderr"
        },
        {
          "output_type": "stream",
          "text": [
            "0\n",
            "18\n"
          ],
          "name": "stdout"
        },
        {
          "output_type": "stream",
          "text": [
            "100%|██████████| 18/18 [00:01<00:00, 10.75it/s]\n",
            "  0%|          | 0/16 [00:00<?, ?it/s]"
          ],
          "name": "stderr"
        },
        {
          "output_type": "stream",
          "text": [
            "0\n",
            "16\n"
          ],
          "name": "stdout"
        },
        {
          "output_type": "stream",
          "text": [
            "100%|██████████| 16/16 [00:02<00:00,  7.49it/s]\n",
            "  0%|          | 0/14 [00:00<?, ?it/s]"
          ],
          "name": "stderr"
        },
        {
          "output_type": "stream",
          "text": [
            "0\n",
            "14\n"
          ],
          "name": "stdout"
        },
        {
          "output_type": "stream",
          "text": [
            "100%|██████████| 14/14 [00:01<00:00, 11.14it/s]\n",
            "  8%|▊         | 1/13 [00:00<00:01,  7.37it/s]"
          ],
          "name": "stderr"
        },
        {
          "output_type": "stream",
          "text": [
            "0\n",
            "13\n"
          ],
          "name": "stdout"
        },
        {
          "output_type": "stream",
          "text": [
            "100%|██████████| 13/13 [00:01<00:00,  9.33it/s]\n",
            " 18%|█▊        | 2/11 [00:00<00:00, 10.76it/s]"
          ],
          "name": "stderr"
        },
        {
          "output_type": "stream",
          "text": [
            "0\n",
            "11\n"
          ],
          "name": "stdout"
        },
        {
          "output_type": "stream",
          "text": [
            "100%|██████████| 11/11 [00:01<00:00, 10.92it/s]\n",
            "  0%|          | 0/10 [00:00<?, ?it/s]"
          ],
          "name": "stderr"
        },
        {
          "output_type": "stream",
          "text": [
            "0\n",
            "10\n"
          ],
          "name": "stdout"
        },
        {
          "output_type": "stream",
          "text": [
            "100%|██████████| 10/10 [00:01<00:00,  9.61it/s]\n",
            " 22%|██▏       | 2/9 [00:00<00:00, 15.31it/s]"
          ],
          "name": "stderr"
        },
        {
          "output_type": "stream",
          "text": [
            "0\n",
            "9\n"
          ],
          "name": "stdout"
        },
        {
          "output_type": "stream",
          "text": [
            "100%|██████████| 9/9 [00:00<00:00, 10.90it/s]\n",
            " 12%|█▎        | 1/8 [00:00<00:00,  7.68it/s]"
          ],
          "name": "stderr"
        },
        {
          "output_type": "stream",
          "text": [
            "0\n",
            "8\n"
          ],
          "name": "stdout"
        },
        {
          "output_type": "stream",
          "text": [
            "100%|██████████| 8/8 [00:00<00:00, 10.69it/s]\n",
            "  0%|          | 0/8 [00:00<?, ?it/s]"
          ],
          "name": "stderr"
        },
        {
          "output_type": "stream",
          "text": [
            "0\n",
            "8\n"
          ],
          "name": "stdout"
        },
        {
          "output_type": "stream",
          "text": [
            "100%|██████████| 8/8 [00:00<00:00, 10.83it/s]\n",
            "  0%|          | 0/7 [00:00<?, ?it/s]"
          ],
          "name": "stderr"
        },
        {
          "output_type": "stream",
          "text": [
            "0\n",
            "7\n"
          ],
          "name": "stdout"
        },
        {
          "output_type": "stream",
          "text": [
            "100%|██████████| 7/7 [00:00<00:00, 10.14it/s]\n",
            " 17%|█▋        | 1/6 [00:00<00:00,  8.63it/s]"
          ],
          "name": "stderr"
        },
        {
          "output_type": "stream",
          "text": [
            "0\n",
            "6\n"
          ],
          "name": "stdout"
        },
        {
          "output_type": "stream",
          "text": [
            "100%|██████████| 6/6 [00:00<00:00,  9.84it/s]\n",
            " 40%|████      | 2/5 [00:00<00:00, 10.94it/s]"
          ],
          "name": "stderr"
        },
        {
          "output_type": "stream",
          "text": [
            "0\n",
            "5\n"
          ],
          "name": "stdout"
        },
        {
          "output_type": "stream",
          "text": [
            "100%|██████████| 5/5 [00:00<00:00, 12.15it/s]\n",
            "  0%|          | 0/5 [00:00<?, ?it/s]"
          ],
          "name": "stderr"
        },
        {
          "output_type": "stream",
          "text": [
            "0\n",
            "5\n"
          ],
          "name": "stdout"
        },
        {
          "output_type": "stream",
          "text": [
            "100%|██████████| 5/5 [00:01<00:00,  4.98it/s]\n",
            " 50%|█████     | 2/4 [00:00<00:00, 11.44it/s]"
          ],
          "name": "stderr"
        },
        {
          "output_type": "stream",
          "text": [
            "0\n",
            "4\n"
          ],
          "name": "stdout"
        },
        {
          "output_type": "stream",
          "text": [
            "100%|██████████| 4/4 [00:00<00:00,  9.73it/s]\n",
            " 25%|██▌       | 1/4 [00:00<00:00,  9.77it/s]"
          ],
          "name": "stderr"
        },
        {
          "output_type": "stream",
          "text": [
            "0\n",
            "4\n"
          ],
          "name": "stdout"
        },
        {
          "output_type": "stream",
          "text": [
            "100%|██████████| 4/4 [00:00<00:00, 11.93it/s]\n",
            " 67%|██████▋   | 2/3 [00:00<00:00, 11.35it/s]"
          ],
          "name": "stderr"
        },
        {
          "output_type": "stream",
          "text": [
            "0\n",
            "3\n"
          ],
          "name": "stdout"
        },
        {
          "output_type": "stream",
          "text": [
            "100%|██████████| 3/3 [00:00<00:00, 10.59it/s]\n",
            " 67%|██████▋   | 2/3 [00:00<00:00, 15.19it/s]"
          ],
          "name": "stderr"
        },
        {
          "output_type": "stream",
          "text": [
            "0\n",
            "3\n"
          ],
          "name": "stdout"
        },
        {
          "output_type": "stream",
          "text": [
            "100%|██████████| 3/3 [00:00<00:00, 12.21it/s]\n",
            "  0%|          | 0/3 [00:00<?, ?it/s]"
          ],
          "name": "stderr"
        },
        {
          "output_type": "stream",
          "text": [
            "0\n",
            "3\n"
          ],
          "name": "stdout"
        },
        {
          "output_type": "stream",
          "text": [
            "100%|██████████| 3/3 [00:00<00:00, 16.38it/s]\n",
            "100%|██████████| 2/2 [00:00<00:00, 14.79it/s]\n",
            "  0%|          | 0/2 [00:00<?, ?it/s]"
          ],
          "name": "stderr"
        },
        {
          "output_type": "stream",
          "text": [
            "0\n",
            "2\n",
            "0\n",
            "2\n"
          ],
          "name": "stdout"
        },
        {
          "output_type": "stream",
          "text": [
            "100%|██████████| 2/2 [00:00<00:00, 10.37it/s]\n",
            " 50%|█████     | 1/2 [00:00<00:00,  9.60it/s]"
          ],
          "name": "stderr"
        },
        {
          "output_type": "stream",
          "text": [
            "0\n",
            "2\n"
          ],
          "name": "stdout"
        },
        {
          "output_type": "stream",
          "text": [
            "100%|██████████| 2/2 [00:00<00:00,  8.94it/s]\n",
            " 50%|█████     | 1/2 [00:00<00:00,  8.75it/s]"
          ],
          "name": "stderr"
        },
        {
          "output_type": "stream",
          "text": [
            "0\n",
            "2\n"
          ],
          "name": "stdout"
        },
        {
          "output_type": "stream",
          "text": [
            "100%|██████████| 2/2 [00:00<00:00,  9.05it/s]\n",
            "100%|██████████| 1/1 [00:00<00:00, 10.99it/s]\n",
            "100%|██████████| 1/1 [00:00<00:00, 18.39it/s]\n"
          ],
          "name": "stderr"
        },
        {
          "output_type": "stream",
          "text": [
            "0\n",
            "1\n",
            "0\n",
            "1\n",
            "0\n",
            "1\n"
          ],
          "name": "stdout"
        },
        {
          "output_type": "stream",
          "text": [
            "100%|██████████| 1/1 [00:00<00:00, 10.62it/s]\n",
            "100%|██████████| 1/1 [00:00<00:00, 21.00it/s]\n",
            "  0%|          | 0/1 [00:00<?, ?it/s]"
          ],
          "name": "stderr"
        },
        {
          "output_type": "stream",
          "text": [
            "0\n",
            "1\n",
            "0\n",
            "1\n"
          ],
          "name": "stdout"
        },
        {
          "output_type": "stream",
          "text": [
            "100%|██████████| 1/1 [00:00<00:00, 21.14it/s]\n",
            "100%|██████████| 1/1 [00:00<00:00,  9.37it/s]\n",
            "100%|██████████| 1/1 [00:00<00:00, 23.54it/s]\n"
          ],
          "name": "stderr"
        },
        {
          "output_type": "stream",
          "text": [
            "0\n",
            "1\n",
            "0\n",
            "1\n",
            "0\n",
            "1\n"
          ],
          "name": "stdout"
        },
        {
          "output_type": "stream",
          "text": [
            "100%|██████████| 1/1 [00:00<00:00, 10.16it/s]\n",
            "100%|██████████| 1/1 [00:00<00:00,  7.76it/s]\n"
          ],
          "name": "stderr"
        },
        {
          "output_type": "stream",
          "text": [
            "0\n",
            "1\n",
            "0\n",
            "0\n",
            "85\n"
          ],
          "name": "stdout"
        },
        {
          "output_type": "stream",
          "text": [
            "100%|██████████| 2/2 [00:00<00:00, 123.39it/s]"
          ],
          "name": "stderr"
        },
        {
          "output_type": "stream",
          "text": [
            "TOTAL IDS: 23\n"
          ],
          "name": "stdout"
        },
        {
          "output_type": "stream",
          "text": [
            "\n"
          ],
          "name": "stderr"
        },
        {
          "output_type": "stream",
          "text": [
            "1\n",
            "(23, 8)\n"
          ],
          "name": "stdout"
        }
      ]
    }
  ]
}